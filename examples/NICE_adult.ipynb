{
 "cells": [
  {
   "cell_type": "markdown",
   "metadata": {
    "collapsed": true,
    "pycharm": {
     "name": "#%% md\n"
    }
   },
   "source": [
    "## Counterfactual explanations with NICE\n",
    "In this notebook we generate **sparse** counterfactual explanations with NICE for instances of the adult dataset."
   ]
  },
  {
   "cell_type": "code",
   "execution_count": null,
   "outputs": [],
   "source": [
    "from pmlb import fetch_data\n",
    "from sklearn.model_selection import train_test_split\n",
    "from sklearn.ensemble import RandomForestClassifier\n",
    "from sklearn.compose import ColumnTransformer\n",
    "from sklearn.preprocessing import StandardScaler,OneHotEncoder\n",
    "from sklearn.pipeline import Pipeline\n",
    "from nice.explainers import NICE\n",
    "import pandas as pd"
   ],
   "metadata": {
    "collapsed": false,
    "pycharm": {
     "name": "#%%\n"
    }
   }
  },
  {
   "cell_type": "markdown",
   "source": [
    "## Load and preprocess dataset\n",
    "We import the data using `fetch_data` from the `pmlb` package. Some features are removed and the data is split into X and y"
   ],
   "metadata": {
    "collapsed": false,
    "pycharm": {
     "name": "#%% md\n"
    }
   }
  },
  {
   "cell_type": "code",
   "execution_count": null,
   "outputs": [],
   "source": [
    "adult = fetch_data('adult')\n",
    "X = adult.drop(columns=['education-num','fnlwgt','target','native-country'])\n",
    "y = adult.loc[:,'target']\n",
    "feature_names = list(X.columns)"
   ],
   "metadata": {
    "collapsed": false,
    "pycharm": {
     "name": "#%%\n"
    }
   }
  },
  {
   "cell_type": "markdown",
   "source": [
    "`NICE` only supports input in the form of np.array at the moment. We transform the DataFrame and split the data in a test\n",
    "and Training set"
   ],
   "metadata": {
    "collapsed": false,
    "pycharm": {
     "name": "#%% md\n"
    }
   }
  },
  {
   "cell_type": "code",
   "execution_count": null,
   "outputs": [],
   "source": [
    "X = X.values #only supports arrays atm\n",
    "y= y.values\n",
    "X_train, X_test, y_train, y_test = train_test_split(X, y, test_size=0.2)"
   ],
   "metadata": {
    "collapsed": false,
    "pycharm": {
     "name": "#%%\n"
    }
   }
  },
  {
   "cell_type": "markdown",
   "source": [
    "Both `NICE` and our classification pipeline will need the column numbers of both the categorical and numerical features."
   ],
   "metadata": {
    "collapsed": false,
    "pycharm": {
     "name": "#%% md\n"
    }
   }
  },
  {
   "cell_type": "code",
   "execution_count": null,
   "outputs": [],
   "source": [
    "print(feature_names)\n",
    "cat_feat = [1,2,3,4,5,6,7]\n",
    "num_feat = [0,8,9,10]"
   ],
   "metadata": {
    "collapsed": false,
    "pycharm": {
     "name": "#%%\n"
    }
   }
  },
  {
   "cell_type": "markdown",
   "source": [
    "## Training a Classification Pipeline\n",
    "\n",
    "`NICE` requires each column to represent one feature. If One-Hot-encoding is used, it should be included in a pipeline\n",
    "like the example below."
   ],
   "metadata": {
    "collapsed": false,
    "pycharm": {
     "name": "#%% md\n"
    }
   }
  },
  {
   "cell_type": "code",
   "execution_count": null,
   "outputs": [],
   "source": [
    "clf = Pipeline([\n",
    "    ('PP',ColumnTransformer([\n",
    "            ('num',StandardScaler(),num_feat),\n",
    "            ('cat',OneHotEncoder(handle_unknown = 'ignore'),cat_feat)])),\n",
    "    ('RF',RandomForestClassifier())])\n",
    "\n",
    "clf.fit(X_train,y_train)"
   ],
   "metadata": {
    "collapsed": false,
    "pycharm": {
     "name": "#%%\n"
    }
   }
  },
  {
   "cell_type": "markdown",
   "source": [
    "## Generating Explanations\n",
    "The `NICE.fit()` method has a `predict_fn` argument which requires a function that returns a score output for each class."
   ],
   "metadata": {
    "collapsed": false,
    "pycharm": {
     "name": "#%% md\n"
    }
   }
  },
  {
   "cell_type": "code",
   "execution_count": null,
   "outputs": [],
   "source": [
    "predict_fn = lambda x: clf.predict_proba(x)"
   ],
   "metadata": {
    "collapsed": false,
    "pycharm": {
     "name": "#%%\n"
    }
   }
  },
  {
   "cell_type": "markdown",
   "source": [
    "When initializing `NICE`, we have to specify 2 arguments. The argument `optimization` controls which property of our\n",
    "counterfactual explanation is optimized. In our example we use the `\"sparsity\"` optimization\n",
    "\n",
    "If `justified_cf` is set to `True`, NICE only searches\n",
    "for nearest neighbours in the instances of `X_train` for which the class is correctly predicted by our classifier."
   ],
   "metadata": {
    "collapsed": false,
    "pycharm": {
     "name": "#%% md\n"
    }
   }
  },
  {
   "cell_type": "code",
   "execution_count": null,
   "outputs": [],
   "source": [
    "NICE_adult = NICE(optimization='sparsity',\n",
    "                  justified_cf=True)"
   ],
   "metadata": {
    "collapsed": false,
    "pycharm": {
     "name": "#%%\n"
    }
   }
  },
  {
   "cell_type": "markdown",
   "source": [
    "The `.fit()` method requires information about our dataset an classifier.\n",
    "\n",
    "Our training sample (`X_train`) and labels (`y_train`) are required in the form of a `numpy.array`. A `list` with\n",
    " indices of the categorical and numerical features is required for the `cat_feat` and `num_feat` arguments."
   ],
   "metadata": {
    "collapsed": false,
    "pycharm": {
     "name": "#%% md\n"
    }
   }
  },
  {
   "cell_type": "code",
   "execution_count": null,
   "outputs": [],
   "source": [
    "NICE_adult.fit(X_train = X_train,\n",
    "               predict_fn=predict_fn,\n",
    "               y_train = y_train,\n",
    "               cat_feat=cat_feat,\n",
    "               num_feat=num_feat)"
   ],
   "metadata": {
    "collapsed": false,
    "pycharm": {
     "name": "#%%\n"
    }
   }
  },
  {
   "cell_type": "markdown",
   "source": [
    "Once the model is fitted, it's easy to generate fast explanations for any observation by using the `.explain()` method.\n"
   ],
   "metadata": {
    "collapsed": false,
    "pycharm": {
     "name": "#%% md\n"
    }
   }
  },
  {
   "cell_type": "code",
   "execution_count": null,
   "outputs": [],
   "source": [
    "to_explain = X_test[0:1,:]\n",
    "CF = NICE_adult.explain(to_explain)\n"
   ],
   "metadata": {
    "collapsed": false,
    "pycharm": {
     "name": "#%%\n"
    }
   }
  }
 ],
 "metadata": {
  "kernelspec": {
   "display_name": "Python 3",
   "language": "python",
   "name": "python3"
  },
  "language_info": {
   "codemirror_mode": {
    "name": "ipython",
    "version": 2
   },
   "file_extension": ".py",
   "mimetype": "text/x-python",
   "name": "python",
   "nbconvert_exporter": "python",
   "pygments_lexer": "ipython2",
   "version": "2.7.6"
  }
 },
 "nbformat": 4,
 "nbformat_minor": 0
}
